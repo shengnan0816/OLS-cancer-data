{
 "cells": [
  {
   "cell_type": "code",
   "execution_count": 1,
   "id": "f719b55b",
   "metadata": {},
   "outputs": [],
   "source": [
    "# data wrangling tools\n",
    "import pandas as pd\n",
    "import numpy as np"
   ]
  },
  {
   "cell_type": "code",
   "execution_count": 37,
   "id": "a9878848",
   "metadata": {},
   "outputs": [],
   "source": [
    "import warnings\n",
    "warnings.filterwarnings('ignore')"
   ]
  },
  {
   "cell_type": "code",
   "execution_count": 49,
   "id": "baa20217",
   "metadata": {},
   "outputs": [],
   "source": [
    "import os"
   ]
  },
  {
   "cell_type": "markdown",
   "id": "c3009985",
   "metadata": {},
   "source": [
    "##### A.mortality data + cancer incidence data"
   ]
  },
  {
   "cell_type": "code",
   "execution_count": 29,
   "id": "6f528f16",
   "metadata": {},
   "outputs": [],
   "source": [
    "# mortality data\n",
    "mortdf = pd.read_csv('https://query.data.world/s/zaxudnlomnrerxgjiadsldoh6le6sf')\n",
    "# cancer incidence data\n",
    "incddf = pd.read_csv('incd.csv')\n",
    "incddf.rename(columns={' FIPS':'FIPS'}, inplace=True)\n",
    "mortdf['FIPS'] = mortdf.FIPS.apply(lambda x: str(int(x)))\\\n",
    "                            .astype(np.object_)\\\n",
    "                            .str.pad(5, 'left', '0')\n",
    "incddf['FIPS'] = incddf.FIPS.apply(lambda x: str(int(x)))\\\n",
    "                            .astype(np.object_)\\\n",
    "                            .str.pad(5, 'left', '0')"
   ]
  },
  {
   "cell_type": "code",
   "execution_count": 30,
   "id": "acc2bfbb",
   "metadata": {},
   "outputs": [],
   "source": [
    "# keep cols I need\n",
    "incddf.drop(incddf.columns[[0,3,4,7,8,9]].values, axis=1, inplace=True)\n",
    "mortdf.drop(mortdf.columns[[0,2,4,5,7,8,9,10]], axis=1, inplace=True)"
   ]
  },
  {
   "cell_type": "code",
   "execution_count": 31,
   "id": "7cc9ebee",
   "metadata": {},
   "outputs": [],
   "source": [
    "# rename cols\n",
    "incddf.rename(columns={incddf.columns[1]:'Incidence_Rate',\n",
    "                       incddf.columns[2]:'Avg_Ann_Incidence'}, inplace=True)\n",
    "mortdf.rename(columns={mortdf.columns[1]:'Mortality_Rate',\n",
    "                       mortdf.columns[2]:'Avg_Ann_Deaths'}, inplace=True)"
   ]
  },
  {
   "cell_type": "code",
   "execution_count": 33,
   "id": "781c2418",
   "metadata": {},
   "outputs": [],
   "source": [
    "incddf.to_csv(\"incddf_cleaned.csv\",index=False)\n",
    "mortdf.to_csv(\"mortdf_cleaned.csv\",index=False)"
   ]
  },
  {
   "cell_type": "markdown",
   "id": "a1cd9170",
   "metadata": {},
   "source": [
    "##### B.poverty data"
   ]
  },
  {
   "cell_type": "code",
   "execution_count": 78,
   "id": "5a7f9f40",
   "metadata": {},
   "outputs": [],
   "source": [
    "# poverty data\n",
    "povdf = pd.read_csv('~/Desktop/projects/GitHub/regression_CancerData/archive/uscensusbureau-acs-2015-5-e-poverty/data/ak.csv')\n",
    "states=['al', 'ar', 'az', 'ca', 'co', 'ct', 'dc', 'de', 'fl', 'ga',\\\n",
    "        'hi', 'ia', 'id', 'il', 'in', 'ks', 'ky', 'la', 'ma', 'md', 'me',\\\n",
    "       'mi', 'mn', 'mo', 'ms', 'mt', 'nc', 'nd', 'ne', 'nh', 'nj', 'nm',\\\n",
    "       'nv', 'ny', 'oh', 'ok', 'or', 'pa', 'ri', 'sc', 'sd', 'tn', 'tx',\\\n",
    "       'ut', 'va', 'vt', 'wa', 'wi', 'wv', 'wy']\n",
    "for state in states:\n",
    "    file_name = '~/Desktop/projects/GitHub/regression_CancerData/archive/uscensusbureau-acs-2015-5-e-poverty/data/{f}.csv'.format(f=state)\n",
    "#     print(file_name)\n",
    "    povdf = povdf.append(pd.read_csv(file_name))"
   ]
  },
  {
   "cell_type": "code",
   "execution_count": 79,
   "id": "45263f07",
   "metadata": {},
   "outputs": [],
   "source": [
    "# keep cols I need\n",
    "povdf = povdf[['state', 'statefips', 'countyfips', 'areaname', 'b17001_002', 'b17001_003','b17001_017']]\n",
    "# rename cols\n",
    "povdf.rename(columns={'state':'State', 'statefips':'StateFIPS', 'countyfips':'CountyFIPS', 'areaname':'AreaName','b17001_002':'All_Poverty', 'b17001_003':'M_Poverty', 'b17001_017':'F_Poverty'},\n",
    "             inplace=True)"
   ]
  },
  {
   "cell_type": "code",
   "execution_count": 80,
   "id": "1ed19a78",
   "metadata": {},
   "outputs": [],
   "source": [
    "# format dataframe\n",
    "povdf = povdf[povdf['CountyFIPS'].notna()]\n",
    "povdf['CountyFIPS']=povdf.CountyFIPS.astype(float).astype(int)\n",
    "povdf['StateFIPS'] = povdf.StateFIPS.astype(np.object_)\\\n",
    "                                    .apply(lambda x: str(x))\\\n",
    "                                    .str.pad(2, 'left', '0')\n",
    "povdf['CountyFIPS'] = povdf.CountyFIPS.astype(np.object_)\\\n",
    "                                      .apply(lambda x: str(x))\\\n",
    "                                      .str.pad(3, 'left', '0')"
   ]
  },
  {
   "cell_type": "code",
   "execution_count": 83,
   "id": "4a008f11",
   "metadata": {},
   "outputs": [],
   "source": [
    "povdf.to_csv(\"povdf_cleaned.csv\",index=False)"
   ]
  },
  {
   "cell_type": "markdown",
   "id": "be7e33b1",
   "metadata": {},
   "source": [
    "##### C.income data"
   ]
  },
  {
   "cell_type": "code",
   "execution_count": 84,
   "id": "f401e811",
   "metadata": {},
   "outputs": [],
   "source": [
    "# income data\n",
    "incomedf = pd.read_csv('~/Desktop/projects/GitHub/regression_CancerData/archive/uscensusbureau-acs-2015-5-e-income/data/ak.csv')\n",
    "states=['al', 'ar', 'az', 'ca', 'co', 'ct', 'dc', 'de', 'fl', 'ga',\\\n",
    "        'hi', 'ia', 'id', 'il', 'in', 'ks', 'ky', 'la', 'ma', 'md', 'me',\\\n",
    "       'mi', 'mn', 'mo', 'ms', 'mt', 'nc', 'nd', 'ne', 'nh', 'nj', 'nm',\\\n",
    "       'nv', 'ny', 'oh', 'ok', 'or', 'pa', 'ri', 'sc', 'sd', 'tn', 'tx',\\\n",
    "       'ut', 'va', 'vt', 'wa', 'wi', 'wv', 'wy']\n",
    "for state in states:\n",
    "    file_name = '~/Desktop/projects/GitHub/regression_CancerData/archive/uscensusbureau-acs-2015-5-e-income/data/{f}.csv'.format(f=state)\n",
    "#     print(file_name)\n",
    "    incomedf = incomedf.append(pd.read_csv(file_name))"
   ]
  },
  {
   "cell_type": "code",
   "execution_count": 85,
   "id": "e926a533",
   "metadata": {},
   "outputs": [],
   "source": [
    "# keep cols I need\n",
    "incomedf=incomedf[['state','statefips','countyfips','b19013_001','b19013a_001','b19013b_001','b19013c_001','b19013d_001','b19013i_001']]\n",
    "# rename cols\n",
    "incomedf.rename(columns={'state':'State', 'statefips':'StateFIPS', 'countyfips':'CountyFIPS','b19013_001':'Med_Income', \\\n",
    "                      'b19013a_001':'Med_Income_White', 'b19013b_001':'Med_Income_Black',\\\n",
    "                     'b19013c_001':'Med_Income_Nat_Am','b19013d_001':'Med_Income_Asian','b19013i_001':'Hispanic'},inplace=True)"
   ]
  },
  {
   "cell_type": "code",
   "execution_count": 86,
   "id": "014d2394",
   "metadata": {},
   "outputs": [],
   "source": [
    "# format dataframe\n",
    "incomedf=incomedf[incomedf['CountyFIPS'].notna()]\n",
    "incomedf['CountyFIPS']=incomedf.CountyFIPS.astype(float).astype(int)\n",
    "incomedf['StateFIPS'] = incomedf.StateFIPS.astype(np.object_)\\\n",
    "                                .apply(lambda x: str(x))\\\n",
    "                                .str.pad(2, 'left', '0')\n",
    "incomedf['CountyFIPS'] = incomedf.CountyFIPS.astype(np.object_)\\\n",
    "                                 .apply(lambda x: str(x))\\\n",
    "                                 .str.pad(3, 'left', '0')"
   ]
  },
  {
   "cell_type": "code",
   "execution_count": 23,
   "id": "f2d47584",
   "metadata": {},
   "outputs": [],
   "source": [
    "incomedf.to_csv(\"incomedf_cleaned.csv\",index=False)"
   ]
  },
  {
   "cell_type": "markdown",
   "id": "06aa20af",
   "metadata": {},
   "source": [
    "##### D. health insurance data"
   ]
  },
  {
   "cell_type": "code",
   "execution_count": 64,
   "id": "32e2eca7",
   "metadata": {},
   "outputs": [],
   "source": [
    "# health insurance data\n",
    "hinsdf = pd.read_csv('~/Desktop/projects/GitHub/regression_CancerData/archive/uscensusbureau-acs-2015-5-e-healthinsurance/data/ak.csv')\n",
    "states=['al', 'ar', 'az', 'ca', 'co', 'ct', 'dc', 'de', 'fl', 'ga',\\\n",
    "        'hi', 'ia', 'id', 'il', 'in', 'ks', 'ky', 'la', 'ma', 'md', 'me',\\\n",
    "       'mi', 'mn', 'mo', 'ms', 'mt', 'nc', 'nd', 'ne', 'nh', 'nj', 'nm',\\\n",
    "       'nv', 'ny', 'oh', 'ok', 'or', 'pa', 'ri', 'sc', 'sd', 'tn', 'tx',\\\n",
    "       'ut', 'va', 'vt', 'wa', 'wi', 'wv', 'wy']\n",
    "for state in states:\n",
    "    file_name = \"~/Desktop/projects/GitHub/regression_CancerData/archive/uscensusbureau-acs-2015-5-e-healthinsurance/data/{f}.csv\".format(f=state)\n",
    "#     print(file_name)\n",
    "    hinsdf = hinsdf.append(pd.read_csv(file_name))"
   ]
  },
  {
   "cell_type": "code",
   "execution_count": 66,
   "id": "7e2046f2",
   "metadata": {},
   "outputs": [],
   "source": [
    "cols = ['StateFIPS', 'CountyFIPS',\\\n",
    "       'B27001_004', 'B27001_005', 'B27001_007', 'B27001_008',\\\n",
    "       'B27001_010', 'B27001_011', 'B27001_013', 'B27001_014',\\\n",
    "       'B27001_016', 'B27001_017', 'B27001_019', 'B27001_020',\\\n",
    "       'B27001_022', 'B27001_023', 'B27001_025', 'B27001_026',\\\n",
    "       'B27001_028', 'B27001_029', 'B27001_032', 'B27001_033',\\\n",
    "       'B27001_035', 'B27001_036', 'B27001_038', 'B27001_039',\\\n",
    "       'B27001_041', 'B27001_042', 'B27001_044', 'B27001_045',\\\n",
    "       'B27001_047', 'B27001_048', 'B27001_050', 'B27001_051',\\\n",
    "       'B27001_053', 'B27001_054', 'B27001_056', 'B27001_057']\n",
    "cols_lower = [col.lower() for col in cols]"
   ]
  },
  {
   "cell_type": "code",
   "execution_count": 67,
   "id": "e1e35f80",
   "metadata": {},
   "outputs": [],
   "source": [
    "hinsdf = hinsdf[cols_lower]\n",
    "hinsdf = hinsdf[hinsdf['countyfips'].notna()]\n",
    "hinsdf['countyfips']=hinsdf.countyfips.astype(float).astype(int)"
   ]
  },
  {
   "cell_type": "code",
   "execution_count": 68,
   "id": "cbb7201d",
   "metadata": {},
   "outputs": [],
   "source": [
    "# format dataframe\n",
    "hinsdf['statefips'] = hinsdf.statefips.astype(np.object_)\\\n",
    "                                      .apply(lambda x: str(x))\\\n",
    "                                      .str.pad(2, 'left', '0')\n",
    "hinsdf['countyfips'] = hinsdf.countyfips.astype(np.object_)\\\n",
    "                                        .apply(lambda x: str(x))\\\n",
    "                                        .str.pad(3, 'left', '0')"
   ]
  },
  {
   "cell_type": "code",
   "execution_count": 69,
   "id": "3c225091",
   "metadata": {},
   "outputs": [],
   "source": [
    "# columns representing males' health insurance statistics\n",
    "males = ['B27001_004', 'B27001_005', 'B27001_007', 'B27001_008',\\\n",
    "       'B27001_010', 'B27001_011', 'B27001_013', 'B27001_014',\\\n",
    "       'B27001_016', 'B27001_017', 'B27001_019', 'B27001_020',\\\n",
    "       'B27001_022', 'B27001_023', 'B27001_025', 'B27001_026',\\\n",
    "       'B27001_028', 'B27001_029']\n",
    "\n",
    "# females' health insurance statistics\n",
    "females = ['B27001_032', 'B27001_033',\\\n",
    "       'B27001_035', 'B27001_036', 'B27001_038', 'B27001_039',\\\n",
    "       'B27001_041', 'B27001_042', 'B27001_044', 'B27001_045',\\\n",
    "       'B27001_047', 'B27001_048', 'B27001_050', 'B27001_051',\\\n",
    "       'B27001_053', 'B27001_054', 'B27001_056', 'B27001_057']\n",
    "\n",
    "# separate the \"with\" and \"without\" health insurance columns\n",
    "males_with = []\n",
    "males_without = []\n",
    "females_with = []\n",
    "females_without = []\n",
    "\n",
    "# strip the backticks\n",
    "for i, j in enumerate(males):\n",
    "    if i % 2 == 0:\n",
    "        males_with.append(j)\n",
    "    else:\n",
    "        males_without.append(j)\n",
    "        \n",
    "for i, j in enumerate(females):\n",
    "    if i % 2 == 0:\n",
    "        females_with.append(j)\n",
    "    else:\n",
    "        females_without.append(j)"
   ]
  },
  {
   "cell_type": "code",
   "execution_count": 70,
   "id": "fc49edf8",
   "metadata": {},
   "outputs": [],
   "source": [
    "dic_col = dict(map(lambda i,j : (i,j) , cols_lower,cols))\n",
    "hinsdf.rename(columns=dic_col,inplace=True)"
   ]
  },
  {
   "cell_type": "code",
   "execution_count": 71,
   "id": "b232ab8c",
   "metadata": {},
   "outputs": [],
   "source": [
    "clist = [males_with, males_without, females_with, females_without]\n",
    "newcols = ['M_With', 'M_Without', 'F_With', 'F_Without'] "
   ]
  },
  {
   "cell_type": "code",
   "execution_count": 72,
   "id": "e0a1d50a",
   "metadata": {},
   "outputs": [],
   "source": [
    "for col in newcols:\n",
    "    hinsdf[col] = 0\n",
    "for i in males_with:\n",
    "    hinsdf['M_With'] += hinsdf[i]  \n",
    "for i in males_without:\n",
    "    hinsdf['M_Without'] += hinsdf[i]\n",
    "for i in females_with:\n",
    "    hinsdf['F_With'] += hinsdf[i]\n",
    "for i in females_without:\n",
    "    hinsdf['F_Without'] += hinsdf[i]"
   ]
  },
  {
   "cell_type": "code",
   "execution_count": 73,
   "id": "d4c66193",
   "metadata": {},
   "outputs": [],
   "source": [
    "hinsdf['All_With'] = hinsdf.M_With + hinsdf.F_With\n",
    "hinsdf['All_Without'] = hinsdf.M_Without + hinsdf.F_Without"
   ]
  },
  {
   "cell_type": "code",
   "execution_count": 74,
   "id": "5e4ddebf",
   "metadata": {},
   "outputs": [],
   "source": [
    "hinsdf1 = hinsdf.drop(hinsdf.columns[hinsdf.columns.str.contains('B27001')].values, axis=1, inplace=False)"
   ]
  },
  {
   "cell_type": "code",
   "execution_count": 76,
   "id": "1244c31a",
   "metadata": {},
   "outputs": [],
   "source": [
    "hinsdf1.to_csv(\"hinsdf_cleaned.csv\",index=False)"
   ]
  }
 ],
 "metadata": {
  "kernelspec": {
   "display_name": "Python 3",
   "language": "python",
   "name": "python3"
  },
  "language_info": {
   "codemirror_mode": {
    "name": "ipython",
    "version": 3
   },
   "file_extension": ".py",
   "mimetype": "text/x-python",
   "name": "python",
   "nbconvert_exporter": "python",
   "pygments_lexer": "ipython3",
   "version": "3.8.8"
  }
 },
 "nbformat": 4,
 "nbformat_minor": 5
}
